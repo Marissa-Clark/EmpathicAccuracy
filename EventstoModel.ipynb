{
 "cells": [
  {
   "cell_type": "markdown",
   "metadata": {},
   "source": [
    "# Create Models from Events.tsv file"
   ]
  },
  {
   "cell_type": "code",
   "execution_count": 1,
   "metadata": {
    "collapsed": true
   },
   "outputs": [],
   "source": [
    "import pandas as pd\n",
    "import os\n",
    "from os.path import join as opj\n",
    "from glob import glob\n",
    "import re"
   ]
  },
  {
   "cell_type": "code",
   "execution_count": 2,
   "metadata": {
    "collapsed": false
   },
   "outputs": [
    {
     "name": "stdout",
     "output_type": "stream",
     "text": [
      "{'sub-288', 'sub-157', 'sub-256', 'sub-191', 'sub-168', 'sub-179', 'sub-162', 'sub-260', 'sub-215', 'sub-237', 'sub-276', 'sub-188', 'sub-274', 'sub-167', 'sub-200', 'sub-223', 'sub-197', 'sub-145', 'sub-280', 'sub-154', 'sub-138', 'sub-251', 'sub-267', 'sub-160', 'sub-239', 'sub-214', 'sub-208', 'sub-216', 'sub-270', 'sub-220', 'sub-262', 'sub-282', 'sub-242', 'sub-253', 'sub-289', 'sub-263', 'sub-165', 'sub-236', 'sub-266', 'sub-139', 'sub-163', 'sub-245', 'sub-173', 'sub-147', 'sub-277', 'sub-219', 'sub-279', 'sub-229', 'sub-278', 'sub-146', 'sub-156', 'sub-184', 'sub-196', 'sub-222', 'sub-195', 'sub-231', 'sub-186', 'sub-177', 'sub-257', 'sub-161'}\n"
     ]
    }
   ],
   "source": [
    "project_filepath = \"/Users/mdclark/Desktop/EmpAcc/data/behavioraldata/scanfiles_derivatives/rundata/\"\n",
    "correlation_filepath = \"/Users/mdclark/Desktop/EmpAcc/data/behavioraldata/scanfiles_derivatives/correlationdata/\"\n",
    "\n",
    "#Get all subject ids\n",
    "project_file_contents = os.listdir(project_filepath +  '/all')\n",
    "subject_ids = [item for item in project_file_contents if \"sub-\" in item]\n",
    "subject_ids = set([re.sub(r\"_task-emp_run-0._events.tsv\", \"\", subject_id)for subject_id in subject_ids])\n",
    "print(subject_ids)"
   ]
  },
  {
   "cell_type": "markdown",
   "metadata": {
    "collapsed": true
   },
   "source": [
    "# Model = self_other\n",
    "model_name = 'self_other'\n",
    "\n",
    "def model_function(tsv_dataframe):\n",
    "    task_events = tsv_dataframe[['onset', 'duration', 'self_other']]\n",
    "    return task_events\n",
    "\n"
   ]
  },
  {
   "cell_type": "markdown",
   "metadata": {
    "collapsed": true
   },
   "source": [
    "# Model = self_other\n",
    "model_name = 'self_other'\n",
    "\n",
    "def model_function(tsv_dataframe):\n",
    "    task_events = tsv_dataframe[['onset', 'duration', 'self_other']]\n",
    "    return task_events\n",
    "\n"
   ]
  },
  {
   "cell_type": "markdown",
   "metadata": {
    "collapsed": true
   },
   "source": [
    "# Model = video_valence\n",
    "model_name = 'video_valence'\n",
    "\n",
    "def model_function(tsv_dataframe):\n",
    "    task_events = tsv_dataframe[['onset', 'duration', 'neg_pos']]\n",
    "    return task_events\n",
    "\n"
   ]
  },
  {
   "cell_type": "code",
   "execution_count": 10,
   "metadata": {
    "collapsed": false
   },
   "outputs": [
    {
     "ename": "IndentationError",
     "evalue": "unexpected indent (<ipython-input-10-62fcdc61416e>, line 7)",
     "output_type": "error",
     "traceback": [
      "\u001b[0;36m  File \u001b[0;32m\"<ipython-input-10-62fcdc61416e>\"\u001b[0;36m, line \u001b[0;32m7\u001b[0m\n\u001b[0;31m    df = []\u001b[0m\n\u001b[0m    ^\u001b[0m\n\u001b[0;31mIndentationError\u001b[0m\u001b[0;31m:\u001b[0m unexpected indent\n"
     ]
    }
   ],
   "source": [
    "# Model = video_valence\n",
    "model_name = 'video_number'\n",
    "\n",
    "def model_function(tsv_dataframe):\n",
    "    task_events = tsv_dataframe[['onset', 'duration', 'video_number']]\n",
    "    \n",
    "        df = []\n",
    "\n",
    "    #Get which videos and find first and last value of video to get onset and offset\n",
    "    videos = set(tsv_dataframe['video_number'])\n",
    "    for video in videos: \n",
    "        df.append([video,tsv_dataframe[tsv_dataframe['video_number'] == video]['onset'].min(), tsv_dataframe[tsv_dataframe['video_number'] == video]['onset'].max()])\n",
    "    df = pd.DataFrame(df)\n",
    "    df.columns = ['video_number', 'onset', 'offset']\n",
    "\n",
    "    #Get duration\n",
    "    df['onset'] = df['onset'] - 0.5 #Video starts 0.5 seconds before participant makes a rating\n",
    "    df['duration'] = df['offset'] - df['onset'] + 0.5 #Video ends 0.5 seconds after participant makes a rating (check with E about this)\n",
    "\n",
    "    \n",
    "    \n",
    "    return task_events\n"
   ]
  },
  {
   "cell_type": "code",
   "execution_count": 11,
   "metadata": {
    "collapsed": false
   },
   "outputs": [],
   "source": [
    "# # Model = Rater correlation w/ all other raters\n",
    "\n",
    "# # For this model, individual ratings don't matter, so I'm going to change the onset/duration to reflect each video as a whole\n",
    "\n",
    "# model_name = 'rater_correlation'\n",
    "\n",
    "# def model_function(tsv_dataframe): \n",
    "#     df = []\n",
    "\n",
    "#     #Get which videos and find first and last value of video to get onset and offset\n",
    "#     videos = set(tsv_dataframe['video_number'])\n",
    "#     for video in videos: \n",
    "#         df.append([video,tsv_dataframe[tsv_dataframe['video_number'] == video]['onset'].min(), tsv_dataframe[tsv_dataframe['video_number'] == video]['onset'].max()])\n",
    "#     df = pd.DataFrame(df)\n",
    "#     df.columns = ['video_number', 'onset', 'offset']\n",
    "\n",
    "#     #Get duration\n",
    "#     df['onset'] = df['onset'] - 0.5 #Video starts 0.5 seconds before participant makes a rating\n",
    "#     df['duration'] = df['offset'] - df['onset'] + 0.5 #Video ends 0.5 seconds after participant makes a rating (check with E about this)\n",
    "\n",
    "#     #Pull correlations and append to dataframe, sort\n",
    "#     subject = tsv_dataframe['sub'][0]\n",
    "#     correlations = pd.DataFrame.from_csv(correlation_filepath + str(subject) + '_z_correlations.csv', index_col=None)\n",
    "#     tsv_dataframe = df.merge(correlations,how='left', left_on='video_number', right_on='video')\n",
    "#     tsv_dataframe = tsv_dataframe[['onset', 'duration', 'z_corr']]\n",
    "#     tsv_dataframe = tsv_dataframe.sort_values('onset', 0)\n",
    "\n",
    "#     return tsv_dataframe"
   ]
  },
  {
   "cell_type": "code",
   "execution_count": 12,
   "metadata": {
    "collapsed": false
   },
   "outputs": [
    {
     "name": "stdout",
     "output_type": "stream",
     "text": [
      "sub-288\n",
      "sub-157\n",
      "sub-256\n",
      "sub-191\n",
      "sub-168\n",
      "sub-179\n",
      "sub-162\n",
      "sub-260\n",
      "sub-215\n",
      "sub-237\n",
      "sub-276\n",
      "sub-188\n",
      "sub-274\n",
      "sub-167\n",
      "sub-200\n",
      "sub-223\n",
      "sub-197\n",
      "sub-145\n",
      "sub-280\n",
      "sub-154\n",
      "sub-138\n",
      "sub-251\n",
      "sub-267\n",
      "sub-160\n",
      "sub-239\n",
      "sub-214\n",
      "sub-208\n",
      "sub-216\n",
      "sub-270\n",
      "sub-220\n",
      "sub-262\n",
      "sub-282\n",
      "sub-242\n",
      "sub-253\n",
      "sub-289\n",
      "sub-263\n",
      "sub-165\n",
      "sub-236\n",
      "sub-266\n",
      "sub-139\n",
      "sub-163\n",
      "sub-245\n",
      "sub-173\n",
      "sub-147\n",
      "sub-277\n",
      "sub-219\n",
      "sub-279\n",
      "sub-229\n",
      "sub-278\n",
      "sub-146\n",
      "sub-156\n",
      "sub-184\n",
      "sub-196\n",
      "sub-222\n",
      "sub-195\n",
      "sub-231\n",
      "sub-186\n",
      "sub-177\n",
      "sub-257\n",
      "sub-161\n"
     ]
    }
   ],
   "source": [
    "for subject in subject_ids: \n",
    "    print(subject)\n",
    "    runs = glob(os.path.join(project_filepath, 'all/' + subject + \"*.tsv\" ))\n",
    "    \n",
    "    for run_tsv in runs: \n",
    "            run_title = run_tsv.split('/')[-1].split('.tsv')[0]\n",
    "            task_events = pd.DataFrame.from_csv(run_tsv, sep='\\t', index_col=None)\n",
    "\n",
    "            model_events = model_function(task_events)\n",
    "\n",
    "            model_events.to_csv(opj(project_filepath, model_name, run_title + '.txt'), sep='\\t', index=False, header=False)\n"
   ]
  },
  {
   "cell_type": "code",
   "execution_count": 11,
   "metadata": {
    "collapsed": false
   },
   "outputs": [],
   "source": [
    "# # Model = template\n",
    "# model_name = \n",
    "\n",
    "# def model_function(tsv_dataframe):\n",
    "\n",
    "#     return task_events\n",
    "\n"
   ]
  },
  {
   "cell_type": "code",
   "execution_count": null,
   "metadata": {
    "collapsed": false
   },
   "outputs": [],
   "source": [
    "print(run_tsv)"
   ]
  },
  {
   "cell_type": "code",
   "execution_count": null,
   "metadata": {
    "collapsed": true
   },
   "outputs": [],
   "source": []
  }
 ],
 "metadata": {
  "kernelspec": {
   "display_name": "Python 3",
   "language": "python",
   "name": "python3"
  },
  "language_info": {
   "codemirror_mode": {
    "name": "ipython",
    "version": 3
   },
   "file_extension": ".py",
   "mimetype": "text/x-python",
   "name": "python",
   "nbconvert_exporter": "python",
   "pygments_lexer": "ipython3",
   "version": "3.6.0"
  }
 },
 "nbformat": 4,
 "nbformat_minor": 2
}
